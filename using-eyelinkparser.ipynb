{
 "metadata": {
  "name": "",
  "signature": "sha256:85c7540436c5d941a1cc01f6132707d263043b99e9bb0cb407a42ad5c53d5220"
 },
 "nbformat": 3,
 "nbformat_minor": 0,
 "worksheets": [
  {
   "cells": [
    {
     "cell_type": "markdown",
     "metadata": {},
     "source": [
      "# Example data analysis with python-eyelinkparser\n",
      "\n",
      "This notebook shows a simple example of analyzing data with EyeLinkParser. The example data is taken from [Math\u00f4t et al. (2015)](https://peerj.com/articles/1150/).\n",
      "\n",
      "\n",
      "## License\n",
      "\n",
      "This notebook (but not EyeLinkParser itself) is released under a CC0 license. This means that, to the extent possible under law, all copyright and related or neighboring rights to the notebook have been waived. You are free to use this notebook however you want.\n",
      "\n",
      "\n",
      "## DataMatrix\n",
      "\n",
      "EyeLinkParser makes heavy use of `DataMatrix`, a user-friendly way to work with tabular data. For an introduction to DataMatrix, see [this notebook](https://github.com/smathot/python-datamatrix/blob/master/using-datamatrix.ipynb),\n",
      "\n",
      "\n",
      "## Parsing the data\n",
      "\n",
      "First we use the EyeLinkParser to parse the `.asc` files from the `data` folder into a `DataMatrix` object.\n",
      "\n",
      "- Parsing is slow, and it is generally a good idea to save a cache of the data by passing a `cacheid`.\n",
      "- The example data follows the assumptions of the parser. When this is not the case, you generally need to create your own subclass of `EyeLinkParser`.\n",
      "- You can specify a function (`traceprocessor`) that processes each x-gaze, y-gaze, pupil size, and timestamp trace before saving it. The `eyelinkparser.defaulttraceprocessor()` provides a convenience function that does blinkreconstruction (pupil size only) and downsampling. *Note*: For illustration purposes, downsampling and blink reconstruction are disabled here, and shown separately under 'Analyzing pupil size'."
     ]
    },
    {
     "cell_type": "code",
     "collapsed": false,
     "input": [
      "import eyelinkparser\n",
      "\n",
      "print('eyelinkparser v%s' % eyelinkparser.__version__)\n",
      "dm = eyelinkparser.parse(\n",
      "    cacheid='data',\n",
      "    traceprocessor=eyelinkparser.defaulttraceprocessor(blinkreconstruct=False, downsample=None)\n",
      "    )"
     ],
     "language": "python",
     "metadata": {},
     "outputs": [
      {
       "output_type": "stream",
       "stream": "stdout",
       "text": [
        "Initializing cache ...\n",
        "eyelinkparser v0.5.0\n",
        "@cached: calling <function parse at 0x7f8b75965598>\n",
        "Parsing data/data1.asc "
       ]
      },
      {
       "output_type": "stream",
       "stream": "stdout",
       "text": [
        "."
       ]
      },
      {
       "output_type": "stream",
       "stream": "stderr",
       "text": [
        "/home/sebastiaan/git/python-eyelinkparser/eyelinkparser/_eyelinkparser.py:210: UserWarning: Phase \"cue\" started while phase \"baseline\" was still ongoing\n",
        "  % (l[3], self.current_phase))\n",
        "/home/sebastiaan/git/python-eyelinkparser/eyelinkparser/_eyelinkparser.py:210: UserWarning: Phase \"end\" started while phase \"cue\" was still ongoing\n",
        "  % (l[3], self.current_phase))\n"
       ]
      },
      {
       "output_type": "stream",
       "stream": "stdout",
       "text": [
        "."
       ]
      },
      {
       "output_type": "stream",
       "stream": "stdout",
       "text": [
        "."
       ]
      },
      {
       "output_type": "stream",
       "stream": "stdout",
       "text": [
        "."
       ]
      },
      {
       "output_type": "stream",
       "stream": "stdout",
       "text": [
        "."
       ]
      },
      {
       "output_type": "stream",
       "stream": "stdout",
       "text": [
        "."
       ]
      },
      {
       "output_type": "stream",
       "stream": "stdout",
       "text": [
        "."
       ]
      },
      {
       "output_type": "stream",
       "stream": "stdout",
       "text": [
        "."
       ]
      },
      {
       "output_type": "stream",
       "stream": "stdout",
       "text": [
        "."
       ]
      },
      {
       "output_type": "stream",
       "stream": "stdout",
       "text": [
        "."
       ]
      },
      {
       "output_type": "stream",
       "stream": "stdout",
       "text": [
        "."
       ]
      },
      {
       "output_type": "stream",
       "stream": "stdout",
       "text": [
        "."
       ]
      },
      {
       "output_type": "stream",
       "stream": "stdout",
       "text": [
        "."
       ]
      },
      {
       "output_type": "stream",
       "stream": "stdout",
       "text": [
        "."
       ]
      },
      {
       "output_type": "stream",
       "stream": "stdout",
       "text": [
        "."
       ]
      },
      {
       "output_type": "stream",
       "stream": "stdout",
       "text": [
        "."
       ]
      },
      {
       "output_type": "stream",
       "stream": "stdout",
       "text": [
        "."
       ]
      },
      {
       "output_type": "stream",
       "stream": "stdout",
       "text": [
        "."
       ]
      },
      {
       "output_type": "stream",
       "stream": "stdout",
       "text": [
        "."
       ]
      },
      {
       "output_type": "stream",
       "stream": "stdout",
       "text": [
        "."
       ]
      },
      {
       "output_type": "stream",
       "stream": "stdout",
       "text": [
        " (20 trials)\n"
       ]
      },
      {
       "output_type": "stream",
       "stream": "stdout",
       "text": [
        "Parsing data/data2.asc "
       ]
      },
      {
       "output_type": "stream",
       "stream": "stdout",
       "text": [
        "."
       ]
      },
      {
       "output_type": "stream",
       "stream": "stdout",
       "text": [
        "."
       ]
      },
      {
       "output_type": "stream",
       "stream": "stdout",
       "text": [
        "."
       ]
      },
      {
       "output_type": "stream",
       "stream": "stdout",
       "text": [
        "."
       ]
      },
      {
       "output_type": "stream",
       "stream": "stdout",
       "text": [
        "."
       ]
      },
      {
       "output_type": "stream",
       "stream": "stdout",
       "text": [
        "."
       ]
      },
      {
       "output_type": "stream",
       "stream": "stdout",
       "text": [
        "."
       ]
      },
      {
       "output_type": "stream",
       "stream": "stdout",
       "text": [
        "."
       ]
      },
      {
       "output_type": "stream",
       "stream": "stdout",
       "text": [
        "."
       ]
      },
      {
       "output_type": "stream",
       "stream": "stdout",
       "text": [
        "."
       ]
      },
      {
       "output_type": "stream",
       "stream": "stdout",
       "text": [
        "."
       ]
      },
      {
       "output_type": "stream",
       "stream": "stdout",
       "text": [
        "."
       ]
      },
      {
       "output_type": "stream",
       "stream": "stdout",
       "text": [
        "."
       ]
      },
      {
       "output_type": "stream",
       "stream": "stdout",
       "text": [
        "."
       ]
      },
      {
       "output_type": "stream",
       "stream": "stdout",
       "text": [
        "."
       ]
      },
      {
       "output_type": "stream",
       "stream": "stdout",
       "text": [
        "."
       ]
      },
      {
       "output_type": "stream",
       "stream": "stdout",
       "text": [
        "."
       ]
      },
      {
       "output_type": "stream",
       "stream": "stdout",
       "text": [
        "."
       ]
      },
      {
       "output_type": "stream",
       "stream": "stdout",
       "text": [
        "."
       ]
      },
      {
       "output_type": "stream",
       "stream": "stdout",
       "text": [
        "."
       ]
      },
      {
       "output_type": "stream",
       "stream": "stdout",
       "text": [
        " (20 trials)\n"
       ]
      },
      {
       "output_type": "stream",
       "stream": "stdout",
       "text": [
        "@cached: saving .cache/data.pkl\n"
       ]
      },
      {
       "output_type": "stream",
       "stream": "stderr",
       "text": [
        "/home/sebastiaan/git/python-eyelinkparser/eyelinkparser/_eyelinkparser.py:189: UserWarning: Trial ended while phase \"end\" was still ongoing\n",
        "  % self.current_phase)\n"
       ]
      }
     ],
     "prompt_number": 1
    },
    {
     "cell_type": "markdown",
     "metadata": {},
     "source": [
      "## Analyzing fixations\n",
      "\n",
      "Each trial has been parsed into phases. For each phase, fixations are stored in the following columns:\n",
      "\n",
      "- `fixxlist_[phase name]` is a series of X coordinates\n",
      "- `fixylist_[phase name]` is a series of Y coordinates\n",
      "- `fixstlist_[phase name]` is a series of start times\n",
      "- `fixetlist_[phase name]` is a series of end times\n",
      "\n",
      "These columns are `SeriesColumns` with two dimensions. The first dimension is trial number; the second dimension is fixation number.\n",
      "\n",
      "Say that we want to:\n",
      "\n",
      "- select trials in which eye movements were made from the top to the bottom;\n",
      "- look at the `cue` phase; and \n",
      "- plot all first fixations in green, and all second fixations in red.\n",
      "\n",
      "We could do this as follows:"
     ]
    },
    {
     "cell_type": "code",
     "collapsed": false,
     "input": [
      "%matplotlib inline\n",
      "from matplotlib import pyplot as plt\n",
      "\n",
      "dmfromtop = dm.startPos == 'top'\n",
      "plt.plot(dmfromtop.fixxlist_cue[:,0], dmfromtop.fixylist_cue[:,0], 'o', color='green')\n",
      "plt.plot(dmfromtop.fixxlist_cue[:,1], dmfromtop.fixylist_cue[:,1], 'o', color='red')\n",
      "plt.show()"
     ],
     "language": "python",
     "metadata": {},
     "outputs": [
      {
       "metadata": {},
       "output_type": "display_data",
       "png": "[encoded data removed]",
       "text": [
        "<matplotlib.figure.Figure at 0x7f8b3e2d5c88>"
       ]
      }
     ],
     "prompt_number": 2
    },
    {
     "cell_type": "markdown",
     "metadata": {},
     "source": [
      "## Analyzing pupil size\n",
      "\n",
      "For each phase, samples are stored in the following columns:\n",
      "    \n",
      "- `xtrace_[phase name]` is a series of X coordinates\n",
      "- `ytrace_[phase name]` is a series of Y coordinates\n",
      "- `ttrace_[phase name]` is a series of time stamps\n",
      "- `ptrace_[phase name]` is a series of pupil sizes\n",
      "\n",
      "Similar to above, these columns are `SeriesColumns` where the first dimension is trial number, and the second dimension is sample number.\n",
      "\n",
      "Say that we want to:\n",
      "\n",
      "- Plot pupil size over time;\n",
      "- Separately for:\n",
      "  - Trials in which gaze started at the top, and;\n",
      "  - Trials in which gaze started at the bottom.\n",
      "  \n",
      "We could do this as follows:"
     ]
    },
    {
     "cell_type": "code",
     "collapsed": false,
     "input": [
      "from datamatrix import plot\n",
      "\n",
      "plot.trace( (dm.startPos == 'top').ptrace_cue, color='red')\n",
      "plot.trace( (dm.startPos == 'bottom').ptrace_cue, color='blue')\n",
      "plt.show()"
     ],
     "language": "python",
     "metadata": {},
     "outputs": [
      {
       "output_type": "stream",
       "stream": "stderr",
       "text": [
        "/usr/lib/python3/dist-packages/scipy/stats/stats.py:311: RuntimeWarning: invalid value encountered in true_divide\n",
        "  return np.mean(x, axis) / factor\n",
        "/usr/lib/python3/dist-packages/scipy/stats/stats.py:365: RuntimeWarning: invalid value encountered in true_divide\n",
        "  m1 = np.sum(x, axis) / n\n",
        "/usr/lib/python3/dist-packages/scipy/stats/stats.py:379: RuntimeWarning: invalid value encountered in true_divide\n",
        "  m2c = m2 / (n - 1.0)\n"
       ]
      },
      {
       "metadata": {},
       "output_type": "display_data",
       "png": "[encoded data removed]",
       "text": [
        "<matplotlib.figure.Figure at 0x7f8b3df60588>"
       ]
      }
     ],
     "prompt_number": 3
    },
    {
     "cell_type": "markdown",
     "metadata": {},
     "source": [
      "The raw pupil traces are quite messy, so we want to clean them up a bit as follows:\n",
      "\n",
      "- Perform a default blink reconstruction;\n",
      "- Fix trace length at 3000 samples; and\n",
      "- Apply a baseline correction, using the first 10 ms as a baseline period.\n",
      "\n",
      "We could do this as follows:"
     ]
    },
    {
     "cell_type": "code",
     "collapsed": false,
     "input": [
      "from datamatrix import series as srs\n",
      "\n",
      "dm.pupil = srs.blinkreconstruct(dm.ptrace_cue)\n",
      "dm.pupil.depth = 3000\n",
      "dm.pupil = srs.baseline(dm.pupil, baseline=dm.pupil, bl_start=0, bl_end=10,\n",
      "\tmethod='subtractive')\n",
      "plot.trace( (dm.startPos == 'top').pupil, color='red')\n",
      "plot.trace( (dm.startPos == 'bottom').pupil, color='blue')\n",
      "plt.show()"
     ],
     "language": "python",
     "metadata": {},
     "outputs": [
      {
       "output_type": "stream",
       "stream": "stderr",
       "text": [
        "/home/sebastiaan/python-libs/datamatrix/series.py:436: VisibleDeprecationWarning: using a non-integer number instead of an integer will result in an error in the future\n",
        "  y = y[(winlen/2-1):-(winlen/2)]\n",
        "/home/sebastiaan/python-libs/datamatrix/series.py:344: RuntimeWarning: invalid value encountered in less\n",
        "  l = np.where(vtrace[ifrom:] < -vt)[0]\n",
        "/home/sebastiaan/python-libs/datamatrix/series.py:402: RuntimeWarning: invalid value encountered in less\n",
        "  | np.isnan(a) )[0]\n",
        "/home/sebastiaan/python-libs/datamatrix/series.py:402: RuntimeWarning: invalid value encountered in greater\n",
        "  | np.isnan(a) )[0]\n",
        "/home/sebastiaan/python-libs/datamatrix/series.py:352: RuntimeWarning: invalid value encountered in greater\n",
        "  l = np.where(vtrace[istart:] > vt)[0]\n",
        "/home/sebastiaan/python-libs/datamatrix/series.py:359: RuntimeWarning: invalid value encountered in less\n",
        "  l = np.where(vtrace[imid:] < 0)[0]\n"
       ]
      },
      {
       "metadata": {},
       "output_type": "display_data",
       "png": "[encoded data removed]",
       "text": [
        "<matplotlib.figure.Figure at 0x7f8b3dfd6940>"
       ]
      }
     ],
     "prompt_number": 4
    }
   ],
   "metadata": {}
  }
 ]
}